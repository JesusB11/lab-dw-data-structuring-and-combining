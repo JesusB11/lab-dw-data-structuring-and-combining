{
 "cells": [
  {
   "cell_type": "markdown",
   "id": "25d7736c-ba17-4aff-b6bb-66eba20fbf4e",
   "metadata": {
    "id": "25d7736c-ba17-4aff-b6bb-66eba20fbf4e"
   },
   "source": [
    "# Lab | Data Structuring and Combining Data"
   ]
  },
  {
   "cell_type": "markdown",
   "id": "a2cdfc70-44c8-478c-81e7-2bc43fdf4986",
   "metadata": {
    "id": "a2cdfc70-44c8-478c-81e7-2bc43fdf4986"
   },
   "source": [
    "## Challenge 1: Combining & Cleaning Data\n",
    "\n",
    "In this challenge, we will be working with the customer data from an insurance company, as we did in the two previous labs. The data can be found here:\n",
    "- https://raw.githubusercontent.com/data-bootcamp-v4/data/main/file1.csv\n",
    "\n",
    "But this time, we got new data, which can be found in the following 2 CSV files located at the links below.\n",
    "\n",
    "- https://raw.githubusercontent.com/data-bootcamp-v4/data/main/file2.csv\n",
    "- https://raw.githubusercontent.com/data-bootcamp-v4/data/main/file3.csv\n",
    "\n",
    "Note that you'll need to clean and format the new data.\n",
    "\n",
    "Observation:\n",
    "- One option is to first combine the three datasets and then apply the cleaning function to the new combined dataset\n",
    "- Another option would be to read the clean file you saved in the previous lab, and just clean the two new files and concatenate the three clean datasets"
   ]
  },
  {
   "cell_type": "code",
   "execution_count": 1,
   "id": "492d06e3-92c7-4105-ac72-536db98d3244",
   "metadata": {
    "id": "492d06e3-92c7-4105-ac72-536db98d3244"
   },
   "outputs": [],
   "source": [
    "import pandas as pd\n",
    "\n",
    "insurance=pd.read_csv(\"C:/Users/jesus/Desktop/Ironhack bootcamp/insurance_DF.csv\")\n",
    "df_2=pd.read_csv(\"https://raw.githubusercontent.com/data-bootcamp-v4/data/main/file2.csv\")\n",
    "df_3=pd.read_csv((\"https://raw.githubusercontent.com/data-bootcamp-v4/data/main/file3.csv\"))\n",
    "\n",
    "# df_3.info()\n"
   ]
  },
  {
   "cell_type": "code",
   "execution_count": 2,
   "id": "3199b877",
   "metadata": {},
   "outputs": [
    {
     "name": "stdout",
     "output_type": "stream",
     "text": [
      "<class 'pandas.core.frame.DataFrame'>\n",
      "RangeIndex: 1072 entries, 0 to 1071\n",
      "Data columns (total 10 columns):\n",
      " #   Column                   Non-Null Count  Dtype  \n",
      "---  ------                   --------------  -----  \n",
      " 0   Customer                 1071 non-null   object \n",
      " 1   State                    1071 non-null   object \n",
      " 2   Gender                   954 non-null    object \n",
      " 3   Education                1071 non-null   object \n",
      " 4   Customer_Lifetime_Value  1072 non-null   float64\n",
      " 5   Income                   1072 non-null   float64\n",
      " 6   Monthly_Premium_Auto     1072 non-null   float64\n",
      " 7   Policy_Type              1071 non-null   object \n",
      " 8   Vehicle_Class            1071 non-null   object \n",
      " 9   Total_Claim_Amount       1072 non-null   float64\n",
      "dtypes: float64(4), object(6)\n",
      "memory usage: 83.9+ KB\n"
     ]
    }
   ],
   "source": [
    "new_names= {'GENDER':\"Gender\",'Customer Lifetime Value':\"Customer_Lifetime_Value\",\n",
    "       'Monthly Premium Auto':\"Monthly_Premium_Auto\", 'Number of Open Complaints':\"Number_of_Open_Complaints\",\n",
    "       'Policy Type':'Policy_Type', 'Vehicle Class': 'Vehicle_Class', 'Total Claim Amount':\"Total_Claim_Amount\", \"ST\":\"State\"}\n",
    "\n",
    "df_2= df_2.rename(columns=new_names)\n",
    "df_3= df_3.rename(columns=new_names)\n",
    "\n",
    "df_2= df_2.drop('Number_of_Open_Complaints',axis=1)\n",
    "df_3= df_3.drop('Number_of_Open_Complaints',axis=1)\n",
    "insurance= insurance.drop('Unnamed: 0',axis=1)\n",
    "df_3.Customer_Lifetime_Value= df_3.Customer_Lifetime_Value.astype(object)\n",
    "\n",
    "insurance.info()"
   ]
  },
  {
   "cell_type": "code",
   "execution_count": 3,
   "id": "6e241f55",
   "metadata": {},
   "outputs": [
    {
     "name": "stdout",
     "output_type": "stream",
     "text": [
      "<class 'pandas.core.frame.DataFrame'>\n",
      "Index: 9138 entries, 0 to 7069\n",
      "Data columns (total 10 columns):\n",
      " #   Column                   Non-Null Count  Dtype  \n",
      "---  ------                   --------------  -----  \n",
      " 0   Customer                 9137 non-null   object \n",
      " 1   State                    9137 non-null   object \n",
      " 2   Gender                   9015 non-null   object \n",
      " 3   Education                9137 non-null   object \n",
      " 4   Customer_Lifetime_Value  9134 non-null   object \n",
      " 5   Income                   9138 non-null   float64\n",
      " 6   Monthly_Premium_Auto     9138 non-null   float64\n",
      " 7   Policy_Type              9137 non-null   object \n",
      " 8   Vehicle_Class            9137 non-null   object \n",
      " 9   Total_Claim_Amount       9138 non-null   float64\n",
      "dtypes: float64(3), object(7)\n",
      "memory usage: 785.3+ KB\n"
     ]
    }
   ],
   "source": [
    "updated_insurance= pd.concat([insurance, df_2,df_3], axis=0)\n",
    "\n",
    "updated_insurance.info()"
   ]
  },
  {
   "cell_type": "markdown",
   "id": "31b8a9e7-7db9-4604-991b-ef6771603e57",
   "metadata": {
    "id": "31b8a9e7-7db9-4604-991b-ef6771603e57"
   },
   "source": [
    "# Challenge 2: Structuring Data"
   ]
  },
  {
   "cell_type": "markdown",
   "id": "a877fd6d-7a0c-46d2-9657-f25036e4ca4b",
   "metadata": {
    "id": "a877fd6d-7a0c-46d2-9657-f25036e4ca4b"
   },
   "source": [
    "In this challenge, we will continue to work with customer data from an insurance company, but we will use a dataset with more columns, called marketing_customer_analysis.csv, which can be found at the following link:\n",
    "\n",
    "https://raw.githubusercontent.com/data-bootcamp-v4/data/main/marketing_customer_analysis_clean.csv\n",
    "\n",
    "This dataset contains information such as customer demographics, policy details, vehicle information, and the customer's response to the last marketing campaign. Our goal is to explore and analyze this data by performing data cleaning, formatting, and structuring."
   ]
  },
  {
   "cell_type": "code",
   "execution_count": 21,
   "id": "aa10d9b0-1c27-4d3f-a8e4-db6ab73bfd26",
   "metadata": {
    "id": "aa10d9b0-1c27-4d3f-a8e4-db6ab73bfd26"
   },
   "outputs": [
    {
     "data": {
      "text/plain": [
       "Index(['unnamed:_0', 'customer', 'state', 'customer_lifetime_value',\n",
       "       'response', 'coverage', 'education', 'effective_to_date',\n",
       "       'employmentstatus', 'gender', 'income', 'location_code',\n",
       "       'marital_status', 'monthly_premium_auto', 'months_since_last_claim',\n",
       "       'months_since_policy_inception', 'number_of_open_complaints',\n",
       "       'number_of_policies', 'policy_type', 'policy', 'renew_offer_type',\n",
       "       'sales_channel', 'total_claim_amount', 'vehicle_class', 'vehicle_size',\n",
       "       'vehicle_type', 'month'],\n",
       "      dtype='object')"
      ]
     },
     "metadata": {},
     "output_type": "display_data"
    }
   ],
   "source": [
    "cm_analysis=pd.read_csv(\"https://raw.githubusercontent.com/data-bootcamp-v4/data/main/marketing_customer_analysis_clean.csv\")\n",
    "\n",
    "# cm_analysis.columns\n",
    "display(cm_analysis.columns)\n"
   ]
  },
  {
   "cell_type": "markdown",
   "id": "df35fd0d-513e-4e77-867e-429da10a9cc7",
   "metadata": {
    "id": "df35fd0d-513e-4e77-867e-429da10a9cc7"
   },
   "source": [
    "1. You work at the marketing department and you want to know which sales channel brought the most sales in terms of total revenue. Using pivot, create a summary table showing the total revenue for each sales channel (branch, call center, web, and mail).\n",
    "Round the total revenue to 2 decimal points.  Analyze the resulting table to draw insights."
   ]
  },
  {
   "cell_type": "code",
   "execution_count": null,
   "id": "8ed35ab0",
   "metadata": {},
   "outputs": [
    {
     "data": {
      "application/vnd.microsoft.datawrangler.viewer.v0+json": {
       "columns": [
        {
         "name": "sales_channel",
         "rawType": "object",
         "type": "string"
        },
        {
         "name": "monthly_premium_auto",
         "rawType": "int64",
         "type": "integer"
        }
       ],
       "ref": "3e86e03e-9489-4fb1-9979-fdd9540e7cfe",
       "rows": [
        [
         "Agent",
         "386335"
        ],
        [
         "Branch",
         "280953"
        ],
        [
         "Call Center",
         "197970"
        ],
        [
         "Web",
         "151511"
        ]
       ],
       "shape": {
        "columns": 1,
        "rows": 4
       }
      },
      "text/html": [
       "<div>\n",
       "<style scoped>\n",
       "    .dataframe tbody tr th:only-of-type {\n",
       "        vertical-align: middle;\n",
       "    }\n",
       "\n",
       "    .dataframe tbody tr th {\n",
       "        vertical-align: top;\n",
       "    }\n",
       "\n",
       "    .dataframe thead th {\n",
       "        text-align: right;\n",
       "    }\n",
       "</style>\n",
       "<table border=\"1\" class=\"dataframe\">\n",
       "  <thead>\n",
       "    <tr style=\"text-align: right;\">\n",
       "      <th></th>\n",
       "      <th>monthly_premium_auto</th>\n",
       "    </tr>\n",
       "    <tr>\n",
       "      <th>sales_channel</th>\n",
       "      <th></th>\n",
       "    </tr>\n",
       "  </thead>\n",
       "  <tbody>\n",
       "    <tr>\n",
       "      <th>Agent</th>\n",
       "      <td>386335</td>\n",
       "    </tr>\n",
       "    <tr>\n",
       "      <th>Branch</th>\n",
       "      <td>280953</td>\n",
       "    </tr>\n",
       "    <tr>\n",
       "      <th>Call Center</th>\n",
       "      <td>197970</td>\n",
       "    </tr>\n",
       "    <tr>\n",
       "      <th>Web</th>\n",
       "      <td>151511</td>\n",
       "    </tr>\n",
       "  </tbody>\n",
       "</table>\n",
       "</div>"
      ],
      "text/plain": [
       "               monthly_premium_auto\n",
       "sales_channel                      \n",
       "Agent                        386335\n",
       "Branch                       280953\n",
       "Call Center                  197970\n",
       "Web                          151511"
      ]
     },
     "metadata": {},
     "output_type": "display_data"
    }
   ],
   "source": [
    "cm_analysis_short= cm_analysis[[\"monthly_premium_auto\",\"sales_channel\"]]\n",
    "cm_analysis_short_pivot = cm_analysis_short.pivot_table(values=\"monthly_premium_auto\", index=\"sales_channel\",aggfunc='sum')\n",
    "cm_analysis_short_pivot = cm_analysis_short_pivot.round(2)\n",
    "\n",
    "display(cm_analysis_short_pivot)\n",
    "\n",
    "# Based on the information displayed the majority of the revenue came directly from Agents. They had a total renevue of $386,335.00. \n",
    "# This demonstrate that the most efficient way of selling is definitely involving a face to face contact and communication as the second best in the revenue list is the branch."
   ]
  },
  {
   "cell_type": "markdown",
   "id": "640993b2-a291-436c-a34d-a551144f8196",
   "metadata": {
    "id": "640993b2-a291-436c-a34d-a551144f8196"
   },
   "source": [
    "2. Create a pivot table that shows the average customer lifetime value per gender and education level. Analyze the resulting table to draw insights."
   ]
  },
  {
   "cell_type": "code",
   "execution_count": null,
   "id": "efc16f88",
   "metadata": {},
   "outputs": [
    {
     "data": {
      "application/vnd.microsoft.datawrangler.viewer.v0+json": {
       "columns": [
        {
         "name": "gender",
         "rawType": "object",
         "type": "string"
        },
        {
         "name": "Bachelor",
         "rawType": "float64",
         "type": "float"
        },
        {
         "name": "College",
         "rawType": "float64",
         "type": "float"
        },
        {
         "name": "Doctor",
         "rawType": "float64",
         "type": "float"
        },
        {
         "name": "High School or Below",
         "rawType": "float64",
         "type": "float"
        },
        {
         "name": "Master",
         "rawType": "float64",
         "type": "float"
        }
       ],
       "ref": "bb4cb852-af08-4a4c-965d-8e94163b0c00",
       "rows": [
        [
         "F",
         "7874.27",
         "7748.82",
         "7328.51",
         "8675.22",
         "8157.05"
        ],
        [
         "M",
         "7703.6",
         "8052.46",
         "7415.33",
         "8149.69",
         "8168.83"
        ]
       ],
       "shape": {
        "columns": 5,
        "rows": 2
       }
      },
      "text/html": [
       "<div>\n",
       "<style scoped>\n",
       "    .dataframe tbody tr th:only-of-type {\n",
       "        vertical-align: middle;\n",
       "    }\n",
       "\n",
       "    .dataframe tbody tr th {\n",
       "        vertical-align: top;\n",
       "    }\n",
       "\n",
       "    .dataframe thead th {\n",
       "        text-align: right;\n",
       "    }\n",
       "</style>\n",
       "<table border=\"1\" class=\"dataframe\">\n",
       "  <thead>\n",
       "    <tr style=\"text-align: right;\">\n",
       "      <th>education</th>\n",
       "      <th>Bachelor</th>\n",
       "      <th>College</th>\n",
       "      <th>Doctor</th>\n",
       "      <th>High School or Below</th>\n",
       "      <th>Master</th>\n",
       "    </tr>\n",
       "    <tr>\n",
       "      <th>gender</th>\n",
       "      <th></th>\n",
       "      <th></th>\n",
       "      <th></th>\n",
       "      <th></th>\n",
       "      <th></th>\n",
       "    </tr>\n",
       "  </thead>\n",
       "  <tbody>\n",
       "    <tr>\n",
       "      <th>F</th>\n",
       "      <td>7874.27</td>\n",
       "      <td>7748.82</td>\n",
       "      <td>7328.51</td>\n",
       "      <td>8675.22</td>\n",
       "      <td>8157.05</td>\n",
       "    </tr>\n",
       "    <tr>\n",
       "      <th>M</th>\n",
       "      <td>7703.60</td>\n",
       "      <td>8052.46</td>\n",
       "      <td>7415.33</td>\n",
       "      <td>8149.69</td>\n",
       "      <td>8168.83</td>\n",
       "    </tr>\n",
       "  </tbody>\n",
       "</table>\n",
       "</div>"
      ],
      "text/plain": [
       "education  Bachelor  College   Doctor  High School or Below   Master\n",
       "gender                                                              \n",
       "F           7874.27  7748.82  7328.51               8675.22  8157.05\n",
       "M           7703.60  8052.46  7415.33               8149.69  8168.83"
      ]
     },
     "metadata": {},
     "output_type": "display_data"
    }
   ],
   "source": [
    "import numpy as np\n",
    "ins_lifetime=cm_analysis[[\"customer_lifetime_value\", \"education\",\"gender\"]]\n",
    "\n",
    "ins_lifetime_pivot= ins_lifetime.pivot_table(aggfunc= \"mean\", values= \"customer_lifetime_value\", index=\"gender\", columns=\"education\")\n",
    "ins_lifetime_pivot= ins_lifetime_pivot.round(2)\n",
    "\n",
    "display(ins_lifetime_pivot)\n",
    "\n",
    "#The first thing that caught my attention was that the Female customers with an education of high scholl or bellow are the ones with the highest average\n",
    "#  as opposed to female with a doctorade who have the lowest avergae. One would think it should be the other way around. It should eb interesting to investigate and understand why is this happening."
   ]
  },
  {
   "cell_type": "markdown",
   "id": "32c7f2e5-3d90-43e5-be33-9781b6069198",
   "metadata": {
    "id": "32c7f2e5-3d90-43e5-be33-9781b6069198"
   },
   "source": [
    "## Bonus\n",
    "\n",
    "You work at the customer service department and you want to know which months had the highest number of complaints by policy type category. Create a summary table showing the number of complaints by policy type and month.\n",
    "Show it in a long format table."
   ]
  },
  {
   "cell_type": "markdown",
   "id": "e3d09a8f-953c-448a-a5f8-2e5a8cca7291",
   "metadata": {
    "id": "e3d09a8f-953c-448a-a5f8-2e5a8cca7291"
   },
   "source": [
    "*In data analysis, a long format table is a way of structuring data in which each observation or measurement is stored in a separate row of the table. The key characteristic of a long format table is that each column represents a single variable, and each row represents a single observation of that variable.*\n",
    "\n",
    "*More information about long and wide format tables here: https://www.statology.org/long-vs-wide-data/*"
   ]
  },
  {
   "cell_type": "code",
   "execution_count": 7,
   "id": "3a069e0b-b400-470e-904d-d17582191be4",
   "metadata": {
    "id": "3a069e0b-b400-470e-904d-d17582191be4"
   },
   "outputs": [],
   "source": [
    "# Your code goes here"
   ]
  }
 ],
 "metadata": {
  "colab": {
   "provenance": []
  },
  "kernelspec": {
   "display_name": "Python 3",
   "language": "python",
   "name": "python3"
  },
  "language_info": {
   "codemirror_mode": {
    "name": "ipython",
    "version": 3
   },
   "file_extension": ".py",
   "mimetype": "text/x-python",
   "name": "python",
   "nbconvert_exporter": "python",
   "pygments_lexer": "ipython3",
   "version": "3.13.3"
  }
 },
 "nbformat": 4,
 "nbformat_minor": 5
}
